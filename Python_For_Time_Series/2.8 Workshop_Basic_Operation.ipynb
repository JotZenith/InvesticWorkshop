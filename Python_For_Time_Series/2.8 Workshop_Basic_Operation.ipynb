{
  "nbformat": 4,
  "nbformat_minor": 0,
  "metadata": {
    "colab": {
      "provenance": [],
      "toc_visible": true
    },
    "kernelspec": {
      "name": "python3",
      "display_name": "Python 3"
    },
    "language_info": {
      "name": "python"
    }
  },
  "cells": [
    {
      "cell_type": "code",
      "execution_count": null,
      "metadata": {
        "id": "349A9Whhx8fN"
      },
      "outputs": [],
      "source": []
    },
    {
      "cell_type": "markdown",
      "source": [
        "# Arithmetic Operation"
      ],
      "metadata": {
        "id": "qM-k7UcdyccB"
      }
    },
    {
      "cell_type": "code",
      "source": [
        "# สร้างตัวแปร number โดยคำนวณ 1 บวก 2 คูณ 3 หาร 4.0\n",
        "number = 1 + 2 * 3 / 4\n",
        "print(number)\n",
        "# หาทศนิยมจาก 11 หาร 3\n",
        "remainder = 11 % 3\n",
        "print(remainder)\n",
        "# หาพื้นที่สี่เหลี่ยม แต่ละด้านมีค่าเท่ากับ 7\n",
        "squared = 7**2\n",
        "print(squared)\n",
        "# หาปริมาตรลูกบาศก์ แต่ละด้านมีค่าเท่ากับ 2\n",
        "cubed = 2**3\n",
        "print(cubed)"
      ],
      "metadata": {
        "colab": {
          "base_uri": "https://localhost:8080/"
        },
        "id": "J48cBrvKygft",
        "outputId": "db3cf7bf-f8f6-41d4-8770-7eeb90a61d4d"
      },
      "execution_count": null,
      "outputs": [
        {
          "output_type": "stream",
          "name": "stdout",
          "text": [
            "2.5\n",
            "2\n",
            "49\n",
            "8\n"
          ]
        }
      ]
    },
    {
      "cell_type": "markdown",
      "source": [
        "# Using Operators with Strings"
      ],
      "metadata": {
        "id": "5j7agEMwyc8v"
      }
    },
    {
      "cell_type": "code",
      "source": [
        "# Using Operators with Strings\n",
        "# ปริ้น hello 10 ครั้ง\n",
        "lotsofhellos = \"Hello\" * 10\n",
        "print(lotsofhellos)\n",
        "#สร้างตัวเลข 1 ถึง 8 ในรูปแบบ list ที่มีเฉพาะเลขคู่ \n",
        "even_numbers = [2,4,6,8]\n",
        "print(even_numbers)\n",
        "#สร้างตัวเลข 1 ถึง 8 ในรูปแบบ list ที่มีเฉพาะเลขคี่\n",
        "odd_numbers = [1,3,5,7]\n",
        "print(odd_numbers)\n",
        "#นำ odd number กับ even number มาบวกกัน\n",
        "all_numbers = odd_numbers + even_numbers\n",
        "print(all_numbers)"
      ],
      "metadata": {
        "id": "nbcEvL0GyyMu",
        "colab": {
          "base_uri": "https://localhost:8080/"
        },
        "outputId": "11ae492f-20e7-465f-c378-f1d9694a89af"
      },
      "execution_count": 3,
      "outputs": [
        {
          "output_type": "stream",
          "name": "stdout",
          "text": [
            "HelloHelloHelloHelloHelloHelloHelloHelloHelloHello\n",
            "[2, 4, 6, 8]\n",
            "[1, 3, 5, 7]\n",
            "[1, 3, 5, 7, 2, 4, 6, 8]\n"
          ]
        }
      ]
    },
    {
      "cell_type": "markdown",
      "source": [
        "# String Operation"
      ],
      "metadata": {
        "id": "OWIE8ne4ynEa"
      }
    },
    {
      "cell_type": "code",
      "source": [
        "#String Operation\n",
        "\n",
        "# astring = \"Hello world!\"\n",
        "# 1 หาจำนวนตัวอักษรคำว่า Hello World\n",
        "astring = \"Hello World\"\n",
        "string1 = len(astring)\n",
        "print(string1)\n",
        "# 2 slicing ตัวที่ 3 ถึง 7 ของคำว่า Hello World\n",
        "string2 = astring[3:7]\n",
        "print(string2)\n",
        "# 3 slicing ตัวที่ 3 ถึง 7 ของคำว่า Hello World แต่เพิ่มที่ละ 2 ตัว\n",
        "string3 =  astring[3:7:2]\n",
        "print(string3)\n",
        "# 4 เปลี่ยนคำว่า Hello World ให้เป็นอักษรตัวพิมพ์ใหญ่\n",
        "string4 = astring.upper()\n",
        "print(string4)\n",
        "# 5 เปลี่ยนคำว่า Hello World ให้เป็นอักษรตัวพิมพ์เล็ก\n",
        "string5 = astring.lower()\n",
        "print(string5)"
      ],
      "metadata": {
        "id": "FXxv09tEy1g0",
        "colab": {
          "base_uri": "https://localhost:8080/"
        },
        "outputId": "5bd11e78-aa3a-4d8e-f04a-7c500d96723e"
      },
      "execution_count": 4,
      "outputs": [
        {
          "output_type": "stream",
          "name": "stdout",
          "text": [
            "11\n",
            "lo W\n",
            "l \n",
            "HELLO WORLD\n",
            "hello world\n"
          ]
        }
      ]
    }
  ]
}
